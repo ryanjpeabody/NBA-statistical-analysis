{
 "cells": [
  {
   "cell_type": "code",
   "execution_count": 181,
   "metadata": {},
   "outputs": [
    {
     "name": "stdout",
     "output_type": "stream",
     "text": [
      "1975 done!\n",
      "1976 done!\n",
      "1977 done!\n",
      "1978 done!\n",
      "1979 done!\n",
      "1980 done!\n",
      "1981 done!\n",
      "1982 done!\n",
      "1983 done!\n",
      "1984 done!\n",
      "1985 done!\n",
      "1986 done!\n",
      "1987 done!\n",
      "1988 done!\n",
      "1989 done!\n",
      "1990 done!\n",
      "1991 done!\n",
      "1992 done!\n",
      "1993 done!\n",
      "1994 done!\n",
      "1995 done!\n",
      "1996 done!\n",
      "1997 done!\n",
      "1998 done!\n",
      "1999 done!\n",
      "2000 done!\n",
      "2001 done!\n",
      "2002 done!\n",
      "2003 done!\n",
      "2004 done!\n",
      "2005 done!\n",
      "2006 done!\n",
      "2007 done!\n",
      "2008 done!\n",
      "2009 done!\n",
      "2010 done!\n",
      "2011 done!\n",
      "2012 done!\n",
      "2013 done!\n",
      "2014 done!\n",
      "2015 done!\n",
      "2016 done!\n",
      "2017 done!\n",
      "2018 done!\n"
     ]
    }
   ],
   "source": [
    "#!/Users/rjp34/anaconda3/bin/python\n",
    "\n",
    "# Import packages\n",
    "import pandas as pd\n",
    "import requests\n",
    "from bs4 import BeautifulSoup\n",
    "\n",
    "def allstar_voting(year):\n",
    "    \n",
    "    df = pd.DataFrame(columns = ['Player', 'Votes', 'Year'])\n",
    "\n",
    "    # Format changes in 2017\n",
    "    if year <= 2016: \n",
    "        \n",
    "        # Define URL to be scraped\n",
    "        url = 'https://www.basketball-reference.com/allstar/NBA_' + str(year) + '_voting.html'\n",
    "     \n",
    "        # Create BeautifulSoup object\n",
    "        r = requests.get(url)\n",
    "        data = r.text\n",
    "        soup = BeautifulSoup(data, 'lxml')\n",
    "        table = soup.find_all('table')\n",
    "    \n",
    "        if year <= 2012:\n",
    "            num_positions = 3\n",
    "        else:\n",
    "            num_positions = 2\n",
    "        \n",
    "        for ii in range(2, num_positions*2):\n",
    "            table_ii = table[ii]\n",
    "            df_ii = pd.read_html(str(table_ii))\n",
    "            df_ii = df_ii[0]\n",
    "            df_ii = df_ii[[1, 2]]\n",
    "            df_ii.columns = ['Player', 'Votes']\n",
    "            df_ii['Year'] = year\n",
    "        \n",
    "            df = df.append(df_ii)\n",
    "    else:\n",
    "        var = ['frontcourt-eastern', 'backcourt-eastern', 'frontcourt-western', 'backcourt-western']\n",
    "        for ii in var:\n",
    "        \n",
    "            url = 'https://www.basketball-reference.com/allstar/NBA_' + str(year) + '_voting-' + ii + '-conference.html'\n",
    "            \n",
    "            r = requests.get(url)\n",
    "            data = r.text\n",
    "            soup = BeautifulSoup(data, 'lxml')\n",
    "            table = soup.find_all('table')\n",
    "            \n",
    "            tt = table[0]\n",
    "            df_ii = pd.read_html(str(tt))\n",
    "            df_ii = df_ii[0]\n",
    "            df_ii = df_ii.iloc[:, 1:3]\n",
    "            df_ii.columns = ['Player', 'Votes']\n",
    "            df_ii['Year'] = year\n",
    "        \n",
    "            df = df.append(df_ii)\n",
    "\n",
    "    return df\n",
    "        \n",
    "df_out = pd.DataFrame(columns = ['Player', 'Votes', 'Year'])\n",
    "\n",
    "for ii in range(1975, 2019):\n",
    "    if ii != 1999:\n",
    "        df = allstar_voting(ii)\n",
    "        df_out = df_out.append(df)\n",
    "        \n",
    "    print(str(ii) + ' done!')\n",
    "      \n",
    "path_out = '/Users/rjp34/Documents/Github/NBA/Data/' "
   ]
  },
  {
   "cell_type": "code",
   "execution_count": 185,
   "metadata": {},
   "outputs": [
    {
     "data": {
      "text/plain": [
       "{2013}"
      ]
     },
     "execution_count": 185,
     "metadata": {},
     "output_type": "execute_result"
    }
   ],
   "source": [
    "for ii in "
   ]
  }
 ],
 "metadata": {
  "kernelspec": {
   "display_name": "Python 3",
   "language": "python",
   "name": "python3"
  },
  "language_info": {
   "codemirror_mode": {
    "name": "ipython",
    "version": 3
   },
   "file_extension": ".py",
   "mimetype": "text/x-python",
   "name": "python",
   "nbconvert_exporter": "python",
   "pygments_lexer": "ipython3",
   "version": "3.6.2"
  }
 },
 "nbformat": 4,
 "nbformat_minor": 2
}
