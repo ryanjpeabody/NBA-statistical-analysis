{
 "cells": [
  {
   "cell_type": "code",
   "execution_count": 12,
   "metadata": {},
   "outputs": [],
   "source": [
    "import pandas as pd\n",
    "import numpy as np\n",
    "\n",
    "path = '../../Data/'\n",
    "\n",
    "players = []\n",
    "for ii, year in enumerate(range(1979, 2019)):\n",
    "    df = pd.read_csv(path + 'nba_' + str(year) + '_per_poss.csv')\n",
    "    \n",
    "    # Pull out total games for later\n",
    "    g = df.G\n",
    "    \n",
    "    # Drop data not of interest\n",
    "    df.drop(['Unnamed: 0', 'Rk', 'Pos', 'Age', 'Tm', 'G', 'GS'], axis = 1, inplace = True)\n",
    "    \n",
    "    # Use 1979 to define 1980 rookies as players not playing in 1979\n",
    "    if year == 1979:\n",
    "        rookies = pd.DataFrame(columns = df.columns)\n",
    "        mean_key = pd.DataFrame(columns = df.columns)\n",
    "        mean_key.drop('Player', axis = 1, inplace = True)\n",
    "        std_key = mean_key\n",
    "        old_players = df.Player.values\n",
    "        \n",
    "    else:\n",
    "        \n",
    "        # Normalize each year's stats as (x - mu)/std. To reverse this, we need to save mu and std for each year\n",
    "        mean_key = mean_key.append(df.agg(['mean']))\n",
    "        std_key = std_key.append(df.agg(['std']))\n",
    "        for jj in df.columns:\n",
    "            if jj != 'Player':\n",
    "                df[jj] = (df[jj] - df[jj].mean()) / df[jj].std()\n",
    "                \n",
    "\n",
    "        # Rookies defined as players whose names were not previously in players and who played half a season's games\n",
    "        for jj, name in enumerate(df.Player):\n",
    "            if name not in players and name not in old_players and g[jj] > np.max(g) // 2:\n",
    "                players.append(name)\n",
    "                rookies = rookies.append(df.loc[jj, ])\n",
    "                rookies.loc[jj, 'Year'] = year\n",
    "                \n",
    "rookies.to_csv(path + 'nba_rookie_per_poss.csv')\n",
    "mean_key.to_csv(path + 'nba_rookie_per_poss_meankey.csv')\n",
    "std_key.to_csv(path + 'nba_rookie_per_poss_stdkey.csv')"
   ]
  }
 ],
 "metadata": {
  "kernelspec": {
   "display_name": "Python 3",
   "language": "python",
   "name": "python3"
  },
  "language_info": {
   "codemirror_mode": {
    "name": "ipython",
    "version": 3
   },
   "file_extension": ".py",
   "mimetype": "text/x-python",
   "name": "python",
   "nbconvert_exporter": "python",
   "pygments_lexer": "ipython3",
   "version": "3.6.2"
  }
 },
 "nbformat": 4,
 "nbformat_minor": 2
}
