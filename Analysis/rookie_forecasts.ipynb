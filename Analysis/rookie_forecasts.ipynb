{
 "cells": [
  {
   "cell_type": "markdown",
   "metadata": {},
   "source": [
    "# Forecasted improvement by statistical category for NBA rookies\n",
    "\n",
    "We've scraped the following data from basketball-reference.com:\n",
    "\n",
    "-  Per-100 possession data for all NBA players from 1974-present (per-100 stats have only been calaculated from 1974 onward)\n",
    "\n",
    "Sports fans love narratives. We love when hard work and perseverance pay off"
   ]
  }
 ],
 "metadata": {
  "kernelspec": {
   "display_name": "Python 3",
   "language": "python",
   "name": "python3"
  },
  "language_info": {
   "codemirror_mode": {
    "name": "ipython",
    "version": 3
   },
   "file_extension": ".py",
   "mimetype": "text/x-python",
   "name": "python",
   "nbconvert_exporter": "python",
   "pygments_lexer": "ipython3",
   "version": "3.6.2"
  }
 },
 "nbformat": 4,
 "nbformat_minor": 2
}
